{
 "cells": [
  {
   "cell_type": "markdown",
   "id": "c72c7f28-d8f7-467d-bb27-74f491a6bd59",
   "metadata": {},
   "source": [
    "# Quick Scraper for Armed Banks Data"
   ]
  },
  {
   "cell_type": "markdown",
   "id": "cf84e568-a7c2-48e0-b174-4a84ab3546e5",
   "metadata": {},
   "source": [
    "*Frederic R. Hopp*\n",
    "\n",
    "We will build a scraper that downloads the excel files for every year and then renames the file to the selected year.\n",
    "\n",
    "We then loop over all files, take the country name from the file and insert it as a new column to the data, and then build one large dataframe. \n",
    "\n",
    "Lez go. "
   ]
  },
  {
   "cell_type": "code",
   "execution_count": 2,
   "id": "fa1cd453-eb92-4471-84e3-6a2ab2acce6b",
   "metadata": {},
   "outputs": [],
   "source": [
    "import pandas as pd \n",
    "import numpy as np\n",
    "from selenium import webdriver\n",
    "# from selenium.webdriver.support import expected_conditions as EC\n",
    "from selenium.webdriver.common.by import By\n",
    "from random import randint\n",
    "from time import sleep\n",
    "from selenium.webdriver.common.keys import Keys\n",
    "from selenium.webdriver.common.action_chains import ActionChains\n",
    "import os\n",
    "import glob"
   ]
  },
  {
   "cell_type": "code",
   "execution_count": null,
   "id": "662c781e-9d2e-48a9-b06e-fd0ae20375fe",
   "metadata": {},
   "outputs": [],
   "source": [
    "print(\"Starting Firefox web driver\")\n",
    "# Set install path to selenium\n",
    "driver = webdriver.Firefox(executable_path='/Users/fhopp/Desktop/in_scraper/geckodriver')\n",
    "# Open website\n",
    "driver.get(\"http://database.centredelas.org/banca-armada-ca\")\n",
    "sleep(5)\n",
    "\n",
    "# Set to english page\n",
    "engl_button = driver.find_element(By.CSS_SELECTOR, 'div.v-slot-quiet:nth-child(1)')\n",
    "engl_button.click()\n",
    "sleep(3)\n",
    "\n",
    "# Because the site is not easy to scrape, we automatically go through the drop down list and download data one by one.\n",
    "# There are 54 countries total , so for the last country, we have to tell python to hit the down arrow 54 times. \n",
    "for n_click in range(1, 60):\n",
    "    # Find the drop down menu and click on it\n",
    "    drop_menu = driver.find_element(By.CSS_SELECTOR, 'div.filter-item:nth-child(1) > div:nth-child(2) > div:nth-child(2) > div:nth-child(1) > div:nth-child(1) > div:nth-child(1) > div:nth-child(2)')\n",
    "    sleep(1)\n",
    "    drop_menu.click()\n",
    "    sleep(1)\n",
    "    click_counter = 0\n",
    "    # Initiate the down-arrow sequence until we are the desired country\n",
    "    while click_counter < n_click:\n",
    "        action = ActionChains(driver)\n",
    "        action.key_down(Keys.ARROW_DOWN).perform()\n",
    "        sleep(1)\n",
    "        click_counter += 1\n",
    "    # Hit enter to load the data online\n",
    "    action.key_down(Keys.ENTER).perform()\n",
    "    sleep(1)\n",
    "    # Grab the selected country name from the website\n",
    "    country = driver.find_element(By.CSS_SELECTOR, 'div.filter-item:nth-child(1) > div:nth-child(2) > div:nth-child(2) > div:nth-child(1) > div:nth-child(3) > div:nth-child(1) > div:nth-child(1) > div:nth-child(1) > div:nth-child(3) > div:nth-child(1)')\n",
    "    country = country.text\n",
    "    # Actually download the file\n",
    "    download = driver.find_element(By.CSS_SELECTOR, 'div.v-slot-image-button:nth-child(3) > img:nth-child(1)')\n",
    "    download.click()\n",
    "    sleep(2)\n",
    "    # Move the file from downloads to new folder, and rename it to the country it belongs to\n",
    "    old_file = '/Users/fhopp/Downloads/Armed banking.xlsx'\n",
    "    destination = f'/Users/fhopp/Desktop/in_scraper/bank_out/{country}.xlsx'\n",
    "    os.rename(old_file, destination)\n",
    "    # Reset the website and start the sequence all over \n",
    "    delete = driver.find_element(By.CSS_SELECTOR, 'div.filter-item:nth-child(1) > div:nth-child(2) > div:nth-child(2) > div:nth-child(1) > div:nth-child(3) > div:nth-child(1) > div:nth-child(1) > div:nth-child(1) > div:nth-child(1) > div:nth-child(1)')\n",
    "    delete.click()\n",
    "    sleep(2)"
   ]
  },
  {
   "cell_type": "code",
   "execution_count": 3,
   "id": "3073931f-3729-4071-9135-74cadf3b8a28",
   "metadata": {},
   "outputs": [
    {
     "ename": "NameError",
     "evalue": "name 'glob' is not defined",
     "output_type": "error",
     "traceback": [
      "\u001b[1;31m---------------------------------------------------------------------------\u001b[0m",
      "\u001b[1;31mNameError\u001b[0m                                 Traceback (most recent call last)",
      "\u001b[1;32m~\\AppData\\Local\\Temp\\ipykernel_7568\\2118528309.py\u001b[0m in \u001b[0;36m<module>\u001b[1;34m\u001b[0m\n\u001b[0;32m      1\u001b[0m \u001b[1;31m# Define list with paths to all files\u001b[0m\u001b[1;33m\u001b[0m\u001b[1;33m\u001b[0m\u001b[0m\n\u001b[1;32m----> 2\u001b[1;33m \u001b[0mall_files\u001b[0m \u001b[1;33m=\u001b[0m \u001b[0mglob\u001b[0m\u001b[1;33m.\u001b[0m\u001b[0mglob\u001b[0m\u001b[1;33m(\u001b[0m\u001b[1;34m\"bank_out/*\"\u001b[0m\u001b[1;33m)\u001b[0m\u001b[1;33m\u001b[0m\u001b[1;33m\u001b[0m\u001b[0m\n\u001b[0m\u001b[0;32m      3\u001b[0m \u001b[0mall_dfs\u001b[0m \u001b[1;33m=\u001b[0m \u001b[1;33m[\u001b[0m\u001b[1;33m]\u001b[0m\u001b[1;33m\u001b[0m\u001b[1;33m\u001b[0m\u001b[0m\n\u001b[0;32m      4\u001b[0m \u001b[1;31m# Loop over file, load data as df, append to list\u001b[0m\u001b[1;33m\u001b[0m\u001b[1;33m\u001b[0m\u001b[0m\n\u001b[0;32m      5\u001b[0m \u001b[1;32mfor\u001b[0m \u001b[0mfile\u001b[0m \u001b[1;32min\u001b[0m \u001b[0mall_files\u001b[0m\u001b[1;33m:\u001b[0m\u001b[1;33m\u001b[0m\u001b[1;33m\u001b[0m\u001b[0m\n",
      "\u001b[1;31mNameError\u001b[0m: name 'glob' is not defined"
     ]
    }
   ],
   "source": [
    "# Define list with paths to all files\n",
    "all_files = glob.glob(\"bank_out/*\")\n",
    "all_dfs = []\n",
    "# Loop over file, load data as df, append to list \n",
    "for file in all_files:\n",
    "    # Get country name from file \n",
    "    country = file.split(\"/\")[1].split('.')[0]\n",
    "    df = pd.read_excel(file)\n",
    "    # Create new column with country name\n",
    "    df['country'] = country\n",
    "    all_dfs.append(df)\n",
    "    \n",
    "# Concat all dataframes into one large df\n",
    "df = pd.concat(all_dfs)"
   ]
  },
  {
   "cell_type": "code",
   "execution_count": 2,
   "id": "e401f9c3-39a8-4765-8464-9f79c784573b",
   "metadata": {},
   "outputs": [
    {
     "ename": "NameError",
     "evalue": "name 'df' is not defined",
     "output_type": "error",
     "traceback": [
      "\u001b[1;31m---------------------------------------------------------------------------\u001b[0m",
      "\u001b[1;31mNameError\u001b[0m                                 Traceback (most recent call last)",
      "\u001b[1;32m~\\AppData\\Local\\Temp\\ipykernel_7568\\1396537375.py\u001b[0m in \u001b[0;36m<module>\u001b[1;34m\u001b[0m\n\u001b[1;32m----> 1\u001b[1;33m \u001b[0mdf\u001b[0m\u001b[1;33m\u001b[0m\u001b[1;33m\u001b[0m\u001b[0m\n\u001b[0m",
      "\u001b[1;31mNameError\u001b[0m: name 'df' is not defined"
     ]
    }
   ],
   "source": [
    "df"
   ]
  },
  {
   "cell_type": "code",
   "execution_count": 1,
   "id": "8337ca82-cda6-4aae-bb5b-7fa80c8a047a",
   "metadata": {},
   "outputs": [
    {
     "ename": "NameError",
     "evalue": "name 'df' is not defined",
     "output_type": "error",
     "traceback": [
      "\u001b[1;31m---------------------------------------------------------------------------\u001b[0m",
      "\u001b[1;31mNameError\u001b[0m                                 Traceback (most recent call last)",
      "\u001b[1;32m~\\AppData\\Local\\Temp\\ipykernel_7568\\2019038694.py\u001b[0m in \u001b[0;36m<module>\u001b[1;34m\u001b[0m\n\u001b[1;32m----> 1\u001b[1;33m \u001b[0mdf\u001b[0m\u001b[1;33m.\u001b[0m\u001b[0mto_csv\u001b[0m\u001b[1;33m(\u001b[0m\u001b[1;34m\"bank_country.csv\"\u001b[0m\u001b[1;33m)\u001b[0m\u001b[1;33m\u001b[0m\u001b[1;33m\u001b[0m\u001b[0m\n\u001b[0m",
      "\u001b[1;31mNameError\u001b[0m: name 'df' is not defined"
     ]
    }
   ],
   "source": [
    "df.to_csv(\"bank_country.csv\")"
   ]
  }
 ],
 "metadata": {
  "kernelspec": {
   "display_name": "Python 3 (ipykernel)",
   "language": "python",
   "name": "python3"
  },
  "language_info": {
   "codemirror_mode": {
    "name": "ipython",
    "version": 3
   },
   "file_extension": ".py",
   "mimetype": "text/x-python",
   "name": "python",
   "nbconvert_exporter": "python",
   "pygments_lexer": "ipython3",
   "version": "3.9.13"
  }
 },
 "nbformat": 4,
 "nbformat_minor": 5
}
